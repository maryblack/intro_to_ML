{
 "cells": [
  {
   "cell_type": "markdown",
   "metadata": {},
   "source": [
    "# Финальное задание"
   ]
  },
  {
   "cell_type": "markdown",
   "metadata": {},
   "source": [
    "# Подход 1: Градиентный бустинг"
   ]
  },
  {
   "cell_type": "markdown",
   "metadata": {},
   "source": [
    "### Шаг 1:"
   ]
  },
  {
   "cell_type": "code",
   "execution_count": 49,
   "metadata": {},
   "outputs": [
    {
     "name": "stdout",
     "output_type": "stream",
     "text": [
      "Признаки, связанные с итогами матча: ['duration', 'radiant_win', 'tower_status_radiant', 'tower_status_dire', 'barracks_status_radiant', 'barracks_status_dire']\n"
     ]
    }
   ],
   "source": [
    "import pandas as pd\n",
    "\n",
    "df = pd.read_csv('./features.csv', index_col='match_id')\n",
    "# print (df.head())\n",
    "cols_num = len(df.columns)\n",
    "cols_to_drop = list(df.columns.values[(cols_num - 6):])\n",
    "print(f'Признаки, связанные с итогами матча: {cols_to_drop}')\n",
    "y = df['radiant_win'] #целевая переменная\n",
    "df = df.drop(columns = cols_to_drop)\n",
    "# print (df.head())"
   ]
  },
  {
   "cell_type": "markdown",
   "metadata": {},
   "source": [
    "### Шаг 2:"
   ]
  },
  {
   "cell_type": "code",
   "execution_count": 46,
   "metadata": {},
   "outputs": [
    {
     "name": "stdout",
     "output_type": "stream",
     "text": [
      "Признаки с пропущенными значениями: ['first_blood_time', 'first_blood_team', 'first_blood_player1', 'first_blood_player2', 'radiant_bottle_time', 'radiant_courier_time', 'radiant_flying_courier_time', 'radiant_first_ward_time', 'dire_bottle_time', 'dire_courier_time', 'dire_flying_courier_time', 'dire_first_ward_time']\n"
     ]
    }
   ],
   "source": [
    "def missed_labels(df):\n",
    "    count_series = df.count()\n",
    "    labels = []\n",
    "    max_val = max(count_series)\n",
    "    for i in range(0, len(count_series)):\n",
    "        ind = count_series.index[i] \n",
    "        if count_series[ind] != max_val:\n",
    "            labels.append(ind)\n",
    "    return labels\n",
    "            \n",
    "print (f'Признаки с пропущенными значениями: {missed_labels(df)}')"
   ]
  },
  {
   "cell_type": "markdown",
   "metadata": {},
   "source": [
    "**Какие признаки имеют пропуски среди своих значений (приведите полный список имен этих признаков)? Что могут означать пропуски в этих признаках (ответьте на этот вопрос для двух любых признаков)?**\n",
    "\n",
    "Все, что относится к `first_blood_*` легко объясняется тем, что если событие \"первая кровь\" не успело произойти за первые 5 минут, то признаки принимают пропущенное значение.\n",
    "Пропущенные значения для `radiant_*` и `dire_*`: время приобретения (для `first_ward_time` время установки) предметов обеими командами. Данные события могут не произойти в первые 5 минут игры."
   ]
  },
  {
   "cell_type": "markdown",
   "metadata": {},
   "source": [
    "### Шаг 3:"
   ]
  },
  {
   "cell_type": "code",
   "execution_count": 47,
   "metadata": {},
   "outputs": [],
   "source": [
    "def subst_missed(mode, df):\n",
    "    if mode == 'zeros':\n",
    "        df_out = df.fillna(0)\n",
    "    elif mode == 'min':\n",
    "        df_out = df.fillna(df.min())\n",
    "    elif mode == 'max':\n",
    "        df_out = df.fillna(df.max())\n",
    "    elif mode == 'mean':\n",
    "        df_out = df.fillna(df.mean())\n",
    "    return df_out\n",
    "        \n",
    "mode = ['zeros', 'min', 'max', 'mean']#способы заполнения пропущенных значений: нулями, минимумом, максимумом, средним\n",
    "# print (f'before:{missed_labels(df)}')\n",
    "df_wout_miss = subst_missed(mode[0], df)\n",
    "# print (f'after:{missed_labels(df_wout_miss)}')"
   ]
  },
  {
   "cell_type": "markdown",
   "metadata": {},
   "source": [
    "### Шаг 4: \n",
    "**Как называется столбец, содержащий целевую переменную?** \n",
    "\n",
    "целевая переменная - `radiant_win` 1, если победила команда Radiant, 0 — иначе"
   ]
  },
  {
   "cell_type": "markdown",
   "metadata": {},
   "source": [
    "### Шаг 5:"
   ]
  },
  {
   "cell_type": "code",
   "execution_count": 139,
   "metadata": {},
   "outputs": [],
   "source": [
    "from sklearn.ensemble import GradientBoostingClassifier\n",
    "from sklearn.model_selection import KFold\n",
    "from sklearn.model_selection import cross_val_score\n",
    "from sklearn import preprocessing\n",
    "from sklearn import utils\n",
    "import time\n",
    "import datetime\n",
    "from sklearn.model_selection import train_test_split\n",
    "from sklearn.metrics import roc_auc_score"
   ]
  },
  {
   "cell_type": "markdown",
   "metadata": {},
   "source": [
    "**Обработка тестовой выборки:**"
   ]
  },
  {
   "cell_type": "code",
   "execution_count": 62,
   "metadata": {},
   "outputs": [
    {
     "name": "stderr",
     "output_type": "stream",
     "text": [
      "C:\\Users\\Admin\\Anaconda3\\lib\\site-packages\\ipykernel_launcher.py:3: FutureWarning: Method .as_matrix will be removed in a future version. Use .values instead.\n",
      "  This is separate from the ipykernel package so we can avoid doing imports until\n"
     ]
    }
   ],
   "source": [
    "df_test = pd.read_csv('./features_test.csv', index_col='match_id')\n",
    "df_test_wout_miss = subst_missed(mode[0], df_test)\n",
    "X_test = df_test_wout_miss.as_matrix()\n"
   ]
  },
  {
   "cell_type": "code",
   "execution_count": 56,
   "metadata": {},
   "outputs": [
    {
     "name": "stderr",
     "output_type": "stream",
     "text": [
      "C:\\Users\\Admin\\Anaconda3\\lib\\site-packages\\ipykernel_launcher.py:1: FutureWarning: Method .as_matrix will be removed in a future version. Use .values instead.\n",
      "  \"\"\"Entry point for launching an IPython kernel.\n",
      "C:\\Users\\Admin\\Anaconda3\\lib\\site-packages\\ipykernel_launcher.py:2: FutureWarning: Method .as_matrix will be removed in a future version. Use .values instead.\n",
      "  \n"
     ]
    }
   ],
   "source": [
    "y_train = y.as_matrix()\n",
    "X_train = df_wout_miss.as_matrix()"
   ]
  },
  {
   "cell_type": "code",
   "execution_count": 141,
   "metadata": {},
   "outputs": [],
   "source": [
    "def cvKfold(X,y):\n",
    "    kf = KFold(n_splits=5, random_state=1, shuffle=True)\n",
    "    kf.get_n_splits(X, y)\n",
    "    return kf\n"
   ]
  },
  {
   "cell_type": "code",
   "execution_count": 168,
   "metadata": {},
   "outputs": [],
   "source": [
    "def GB_clf_new(X_train, y_train, trees):\n",
    "    start_time = datetime.datetime.now()\n",
    "    clf = GradientBoostingClassifier(learning_rate = 0.1, n_estimators=trees, verbose=True, random_state=241, max_depth = 3)\n",
    "    kf = cvKfold(X_train, y_train)\n",
    "    start_time = datetime.datetime.now()\n",
    "    cvs = cross_val_score(clf, X_train, y_train, scoring='roc_auc', cv=kf, n_jobs=-1)\n",
    "    cvs_val = cvs.mean()\n",
    "    print (f'esimators: {trees}\\ncross-validation score: {cvs_val}')\n",
    "    print (f'Time elapsed:{datetime.datetime.now() - start_time}')\n",
    "\n",
    "    "
   ]
  },
  {
   "cell_type": "code",
   "execution_count": 169,
   "metadata": {},
   "outputs": [
    {
     "name": "stdout",
     "output_type": "stream",
     "text": [
      "esimators: 10\n",
      "cross-validation score: 0.663027010030855\n",
      "Time elapsed:0:00:31.680822\n",
      "esimators: 20\n",
      "cross-validation score: 0.681569552464358\n",
      "Time elapsed:0:00:54.092849\n",
      "esimators: 30\n",
      "cross-validation score: 0.6891385982606287\n",
      "Time elapsed:0:01:16.505197\n",
      "esimators: 40\n",
      "cross-validation score: 0.6936068144820396\n",
      "Time elapsed:0:01:47.376102\n",
      "esimators: 50\n",
      "cross-validation score: 0.6969531965219121\n",
      "Time elapsed:0:02:09.152996\n",
      "esimators: 60\n",
      "cross-validation score: 0.6996693178695128\n",
      "Time elapsed:0:02:34.847590\n",
      "esimators: 80\n",
      "cross-validation score: 0.7033894534658846\n",
      "Time elapsed:0:03:31.034234\n",
      "esimators: 100\n",
      "cross-validation score: 0.7059011910007141\n",
      "Time elapsed:0:04:05.687396\n",
      "esimators: 200\n",
      "cross-validation score: 0.7131874038983415\n",
      "Time elapsed:0:07:55.500213\n",
      "esimators: 250\n",
      "cross-validation score: 0.7153974121383734\n",
      "Time elapsed:0:09:50.045518\n",
      "esimators: 400\n",
      "cross-validation score: 0.7191431330297183\n",
      "Time elapsed:0:15:36.489409\n"
     ]
    }
   ],
   "source": [
    "trees_num = [10, 20, 30, 40, 50, 60, 80, 100, 200, 250, 400]\n",
    "for tr in trees_num:\n",
    "    GB_clf_new(X_train, y_train, tr)\n"
   ]
  },
  {
   "cell_type": "markdown",
   "metadata": {},
   "source": [
    "**Как долго проводилась кросс-валидация для градиентного бустинга с 30 деревьями?**\n",
    "Time elapsed:0:01:16.505197\n",
    "\n",
    "**Какое качество при этом получилось?**\n",
    "cross-validation score: 0.6891385982606287\n",
    "\n",
    "**Имеет ли смысл использовать больше 30 деревьев в градиентном бустинге? Что можно сделать, чтобы ускорить его обучение при увеличении количества деревьев?**\n",
    "\n",
    "Использовать большее количество деревьев имеет смысл, чтобы увеличить точность модели. Нужно учитывать, что с увеличением количества деревьев, увеличивается не только оценка качества, но и время обучения. Чтобы уменьшить время обучения можно использовать часть выборки, а также уменьшить глубину деревьев (при `max_depth = 1` время выполнения сокращается примерно в 3 раза)."
   ]
  },
  {
   "cell_type": "markdown",
   "metadata": {},
   "source": [
    "*Проверим другие способы заполнения пропущенных значений для 10 деревьев:*"
   ]
  },
  {
   "cell_type": "code",
   "execution_count": 170,
   "metadata": {},
   "outputs": [
    {
     "name": "stderr",
     "output_type": "stream",
     "text": [
      "C:\\Users\\Admin\\Anaconda3\\lib\\site-packages\\ipykernel_launcher.py:4: FutureWarning: Method .as_matrix will be removed in a future version. Use .values instead.\n",
      "  after removing the cwd from sys.path.\n",
      "C:\\Users\\Admin\\Anaconda3\\lib\\site-packages\\ipykernel_launcher.py:5: FutureWarning: Method .as_matrix will be removed in a future version. Use .values instead.\n",
      "  \"\"\"\n"
     ]
    },
    {
     "name": "stdout",
     "output_type": "stream",
     "text": [
      "zeros\n",
      "esimators: 10\n",
      "cross-validation score: 0.66483292280491\n",
      "Time elapsed:0:00:31.144076\n",
      "min\n",
      "esimators: 10\n",
      "cross-validation score: 0.66483292280491\n",
      "Time elapsed:0:00:27.499708\n",
      "max\n",
      "esimators: 10\n",
      "cross-validation score: 0.6668857850212715\n",
      "Time elapsed:0:00:26.425586\n",
      "mean\n",
      "esimators: 10\n",
      "cross-validation score: 0.663027010030855\n",
      "Time elapsed:0:00:26.891059\n"
     ]
    }
   ],
   "source": [
    "for m in mode:\n",
    "    df_wout_miss = subst_missed(m, df)\n",
    "    X_train = df_wout_miss.as_matrix()\n",
    "    print (f'{m}')\n",
    "    GB_clf_new(X_train, y_train, 10)"
   ]
  },
  {
   "cell_type": "markdown",
   "metadata": {},
   "source": [
    "Для данной задачи заполнение максимальным значением показывает лучший результат с точки зрения оценки качества"
   ]
  },
  {
   "cell_type": "markdown",
   "metadata": {},
   "source": [
    "# Подход 2: Логистическая регрессия"
   ]
  },
  {
   "cell_type": "code",
   "execution_count": 171,
   "metadata": {},
   "outputs": [],
   "source": [
    "from sklearn.linear_model import LogisticRegression\n",
    "from sklearn.preprocessing import StandardScaler\n",
    "import numpy as np"
   ]
  },
  {
   "cell_type": "code",
   "execution_count": 244,
   "metadata": {},
   "outputs": [],
   "source": [
    "def LR(X_train, y_train, C):\n",
    "    scaler = StandardScaler()\n",
    "    X_train = scaler.fit_transform(X_train)\n",
    "    regr = LogisticRegression(C = C,  random_state=241, n_jobs=-1)\n",
    "    kf = cvKfold(X_train, y_train)\n",
    "    start_time = datetime.datetime.now()\n",
    "    cvs = cross_val_score(regr, X_train, y_train, scoring='roc_auc', cv=kf, n_jobs=-1)\n",
    "    cvs_val = cvs.mean()\n",
    "    print (f'C_regularization: {C}\\ncross-validation score: {cvs_val}')\n",
    "    print (f'Time elapsed:{datetime.datetime.now() - start_time}')\n"
   ]
  },
  {
   "cell_type": "markdown",
   "metadata": {},
   "source": [
    "### Шаг 1:"
   ]
  },
  {
   "cell_type": "code",
   "execution_count": 175,
   "metadata": {},
   "outputs": [
    {
     "name": "stdout",
     "output_type": "stream",
     "text": [
      "C_regularization: 1e-05\n",
      "cross-validation score: 0.6945298784714038\n",
      "Time elapsed:0:00:02.720724\n",
      "C_regularization: 0.0001\n",
      "cross-validation score: 0.7120012896775183\n",
      "Time elapsed:0:00:03.439803\n",
      "C_regularization: 0.001\n",
      "cross-validation score: 0.7166125177369221\n",
      "Time elapsed:0:00:06.045833\n",
      "C_regularization: 0.01\n",
      "cross-validation score: 0.7167538783462648\n",
      "Time elapsed:0:00:07.952547\n",
      "C_regularization: 0.1\n",
      "cross-validation score: 0.7167265024959126\n",
      "Time elapsed:0:00:08.167459\n",
      "C_regularization: 1.0\n",
      "cross-validation score: 0.7167226184902952\n",
      "Time elapsed:0:00:08.314383\n",
      "C_regularization: 10.0\n",
      "cross-validation score: 0.7167225358878273\n",
      "Time elapsed:0:00:08.878269\n",
      "C_regularization: 100.0\n",
      "cross-validation score: 0.7167224426942234\n",
      "Time elapsed:0:00:08.608596\n",
      "C_regularization: 1000.0\n",
      "cross-validation score: 0.7167224300026743\n",
      "Time elapsed:0:00:08.589241\n",
      "C_regularization: 10000.0\n",
      "cross-validation score: 0.7167224278889275\n",
      "Time elapsed:0:00:08.336592\n",
      "C_regularization: 100000.0\n",
      "cross-validation score: 0.7167224300068448\n",
      "Time elapsed:0:00:09.072571\n"
     ]
    }
   ],
   "source": [
    "C_values = np.power(10.0, np.arange(-5, 6))\n",
    "\n",
    "for C in C_values:\n",
    "    LR(X_train, y_train, C)"
   ]
  },
  {
   "cell_type": "markdown",
   "metadata": {},
   "source": [
    "**Какое наилучшее качество у вас получилось?**\n",
    "C_regularization: 0.1\n",
    "cross-validation score: 0.7167265024959126\n",
    "\n",
    "**Как оно соотносится с качеством градиентного бустинга? Чем вы можете объяснить эту разницу? Быстрее ли работает логистическая регрессия по сравнению с градиентным бустингом?**\n",
    "Данное значение немного меньше, чем оценка качества градиентного бустинга с 400 деревьями (0.719), но логистическая регрессия обучается намного быстрее по сравнению с градиентным бустингом: 8 секунд vs 15 минут. Линейные методы работают быстрее в вижу своей простоты.\n"
   ]
  },
  {
   "cell_type": "markdown",
   "metadata": {},
   "source": [
    "### Шаг 2:"
   ]
  },
  {
   "cell_type": "code",
   "execution_count": 234,
   "metadata": {},
   "outputs": [
    {
     "name": "stdout",
     "output_type": "stream",
     "text": [
      "Категориальные признаки: ['lobby_type', 'r1_hero', 'd1_hero', 'r2_hero', 'd2_hero', 'r3_hero', 'd3_hero', 'r4_hero', 'd4_hero', 'r5_hero', 'd5_hero']\n"
     ]
    }
   ],
   "source": [
    "df = pd.read_csv('./features.csv', index_col='match_id')\n",
    "cols_num = len(df.columns)\n",
    "cols_to_drop = list(df.columns.values[(cols_num - 6):])\n",
    "df = df.drop(columns = cols_to_drop)\n",
    "cols_category = ['lobby_type']\n",
    "for p in range(0,5):\n",
    "    cols_category.append('r%d_hero' % (p+1))\n",
    "    cols_category.append('d%d_hero' % (p+1))\n",
    "print(f'Категориальные признаки: {cols_category}')\n",
    "df_heroes = df.loc[:,cols_category[1:]]\n",
    "df_1 = df.drop(columns = cols_category)\n",
    "df_wout_miss = subst_missed(mode[0], df_1)"
   ]
  },
  {
   "cell_type": "code",
   "execution_count": 186,
   "metadata": {},
   "outputs": [
    {
     "name": "stderr",
     "output_type": "stream",
     "text": [
      "C:\\Users\\Admin\\Anaconda3\\lib\\site-packages\\ipykernel_launcher.py:2: FutureWarning: Method .as_matrix will be removed in a future version. Use .values instead.\n",
      "  \n"
     ]
    }
   ],
   "source": [
    "df_wout_miss = subst_missed(mode[0], df)\n",
    "X_train = df_wout_miss.as_matrix()"
   ]
  },
  {
   "cell_type": "code",
   "execution_count": 187,
   "metadata": {},
   "outputs": [
    {
     "name": "stdout",
     "output_type": "stream",
     "text": [
      "C_regularization: 1e-05\n",
      "cross-validation score: 0.6951110694353423\n",
      "Time elapsed:0:00:06.197483\n",
      "C_regularization: 0.0001\n",
      "cross-validation score: 0.7112629500700418\n",
      "Time elapsed:0:00:04.748302\n",
      "C_regularization: 0.001\n",
      "cross-validation score: 0.7162333103715236\n",
      "Time elapsed:0:00:05.657995\n",
      "C_regularization: 0.01\n",
      "cross-validation score: 0.7164088702736156\n",
      "Time elapsed:0:00:07.872319\n",
      "C_regularization: 0.1\n",
      "cross-validation score: 0.716383801538205\n",
      "Time elapsed:0:00:08.024546\n",
      "C_regularization: 1.0\n",
      "cross-validation score: 0.7163803390297804\n",
      "Time elapsed:0:00:08.645960\n",
      "C_regularization: 10.0\n",
      "cross-validation score: 0.7163798497335823\n",
      "Time elapsed:0:00:08.022548\n",
      "C_regularization: 100.0\n",
      "cross-validation score: 0.7163796823834381\n",
      "Time elapsed:0:00:07.804136\n",
      "C_regularization: 1000.0\n",
      "cross-validation score: 0.7163796929771316\n",
      "Time elapsed:0:00:07.623997\n",
      "C_regularization: 10000.0\n",
      "cross-validation score: 0.716379699336385\n",
      "Time elapsed:0:00:07.737887\n",
      "C_regularization: 100000.0\n",
      "cross-validation score: 0.7163796972184824\n",
      "Time elapsed:0:00:07.970233\n"
     ]
    }
   ],
   "source": [
    "for C in C_values:\n",
    "    LR(X_train, y_train, C)"
   ]
  },
  {
   "cell_type": "markdown",
   "metadata": {},
   "source": [
    "**Изменилось ли качество? Чем вы можете это объяснить?**\n",
    "\n",
    "После удаления категориальных признаков качество практически не изменилось, местами ухудшилось. Некоторых пресонажей выбирают чаще, так как на них легче играть или они сильнее, а значит побед на таких персонажах будет больше."
   ]
  },
  {
   "cell_type": "markdown",
   "metadata": {},
   "source": [
    "### Шаг 3:"
   ]
  },
  {
   "cell_type": "markdown",
   "metadata": {},
   "source": [
    "**Сколько различных идентификаторов героев существует в данной игре?**"
   ]
  },
  {
   "cell_type": "code",
   "execution_count": 218,
   "metadata": {},
   "outputs": [
    {
     "name": "stdout",
     "output_type": "stream",
     "text": [
      "108 различных идентификаторов героев\n"
     ]
    },
    {
     "name": "stderr",
     "output_type": "stream",
     "text": [
      "C:\\Users\\Admin\\Anaconda3\\lib\\site-packages\\ipykernel_launcher.py:1: FutureWarning: Method .as_matrix will be removed in a future version. Use .values instead.\n",
      "  \"\"\"Entry point for launching an IPython kernel.\n"
     ]
    }
   ],
   "source": [
    "heroes = df_heroes.as_matrix()\n",
    "N = len(np.unique(heroes))\n",
    "N_max = max(np.unique(heroes))\n",
    "print(f'{N} различных идентификаторов героев')\n"
   ]
  },
  {
   "cell_type": "markdown",
   "metadata": {},
   "source": [
    "### Шаг 4"
   ]
  },
  {
   "cell_type": "code",
   "execution_count": 240,
   "metadata": {},
   "outputs": [],
   "source": [
    "X_pick = np.zeros((df_heroes.shape[0], N_max))\n",
    "\n",
    "for i, match_id in enumerate(df.index):\n",
    "    for p in range(0,5):\n",
    "        X_pick[i, df.loc[match_id, 'r%d_hero' % (p+1)]-1] = 1\n",
    "        X_pick[i, df.loc[match_id, 'd%d_hero' % (p+1)]-1] = -1\n",
    "        \n",
    "heroes_df = pd.DataFrame(X_pick, index=df.index)\n",
    "X_train_all = pd.concat([df_wout_miss, heroes_df], axis=1)"
   ]
  },
  {
   "cell_type": "markdown",
   "metadata": {},
   "source": [
    "### Шаг 5:"
   ]
  },
  {
   "cell_type": "code",
   "execution_count": 241,
   "metadata": {},
   "outputs": [
    {
     "name": "stderr",
     "output_type": "stream",
     "text": [
      "C:\\Users\\Admin\\Anaconda3\\lib\\site-packages\\ipykernel_launcher.py:1: FutureWarning: Method .as_matrix will be removed in a future version. Use .values instead.\n",
      "  \"\"\"Entry point for launching an IPython kernel.\n"
     ]
    }
   ],
   "source": [
    "X_train = X_train_all.as_matrix()"
   ]
  },
  {
   "cell_type": "code",
   "execution_count": 245,
   "metadata": {},
   "outputs": [
    {
     "name": "stdout",
     "output_type": "stream",
     "text": [
      "C_regularization: 1e-05\n",
      "cross-validation score: 0.7148913479970942\n",
      "Time elapsed:0:00:04.345382\n",
      "C_regularization: 0.0001\n",
      "cross-validation score: 0.7428571510322293\n",
      "Time elapsed:0:00:06.205409\n",
      "C_regularization: 0.001\n",
      "cross-validation score: 0.7516014700448687\n",
      "Time elapsed:0:00:11.103352\n",
      "C_regularization: 0.01\n",
      "cross-validation score: 0.7519047305979785\n",
      "Time elapsed:0:00:14.954012\n",
      "C_regularization: 0.1\n",
      "cross-validation score: 0.7518617237159408\n",
      "Time elapsed:0:00:15.197360\n",
      "C_regularization: 1.0\n",
      "cross-validation score: 0.7518560551551905\n",
      "Time elapsed:0:00:15.173422\n",
      "C_regularization: 10.0\n",
      "cross-validation score: 0.7518554325401261\n",
      "Time elapsed:0:00:15.277147\n",
      "C_regularization: 100.0\n",
      "cross-validation score: 0.7518553435406548\n",
      "Time elapsed:0:00:15.392176\n",
      "C_regularization: 1000.0\n",
      "cross-validation score: 0.7518553308360634\n",
      "Time elapsed:0:00:15.182400\n",
      "C_regularization: 10000.0\n",
      "cross-validation score: 0.7518553265919965\n",
      "Time elapsed:0:00:15.363075\n",
      "C_regularization: 100000.0\n",
      "cross-validation score: 0.7518553244739322\n",
      "Time elapsed:0:00:15.154476\n"
     ]
    }
   ],
   "source": [
    "for C in C_values:\n",
    "    LR(X_train, y_train, C)"
   ]
  },
  {
   "cell_type": "markdown",
   "metadata": {},
   "source": [
    "**Какое получилось качество при добавлении \"мешка слов\" по героям? Улучшилось ли оно по сравнению с предыдущим вариантом? Чем вы можете это объяснить?**\n",
    "\n",
    "Качество заметно улучшилось, это объясняется тем, что была проведена предобработка данных и преобразованные категориальные признаки дают больше информации, чем \"сырые\"."
   ]
  },
  {
   "cell_type": "markdown",
   "metadata": {},
   "source": [
    "### Шаг 6:"
   ]
  },
  {
   "cell_type": "code",
   "execution_count": 259,
   "metadata": {},
   "outputs": [],
   "source": [
    "def LR_best(X_train, y_train, X_test):\n",
    "    scaler = StandardScaler()\n",
    "    X_train = scaler.fit_transform(X_train)\n",
    "    X_test = scaler.fit_transform(X_test)\n",
    "    regr = LogisticRegression(C = 0.01,  random_state=241, n_jobs=-1)\n",
    "    regr.fit(X_train, y_train)\n",
    "    y_pred = regr.predict_proba(X_test)\n",
    "    return y_pred\n"
   ]
  },
  {
   "cell_type": "code",
   "execution_count": 265,
   "metadata": {},
   "outputs": [],
   "source": [
    "def preprocessing_df(df):\n",
    "    cols_num = len(df.columns)\n",
    "#     cols_to_drop = list(df.columns.values[(cols_num - 6):])\n",
    "#     df = df.drop(columns = cols_to_drop)\n",
    "    cols_category = ['lobby_type']\n",
    "    for p in range(0,5):\n",
    "        cols_category.append('r%d_hero' % (p+1))\n",
    "        cols_category.append('d%d_hero' % (p+1))\n",
    "    df_heroes = df.loc[:,cols_category[1:]]\n",
    "    df_1 = df.drop(columns = cols_category)\n",
    "    df_wout_miss = subst_missed(mode[0], df_1)\n",
    "    heroes = df_heroes.as_matrix()\n",
    "    N = len(np.unique(heroes))\n",
    "    N_max = max(np.unique(heroes))\n",
    "    X_pick = np.zeros((df_heroes.shape[0], N_max))\n",
    "\n",
    "    for i, match_id in enumerate(df.index):\n",
    "        for p in range(0,5):\n",
    "            X_pick[i, df.loc[match_id, 'r%d_hero' % (p+1)]-1] = 1\n",
    "            X_pick[i, df.loc[match_id, 'd%d_hero' % (p+1)]-1] = -1\n",
    "        \n",
    "    heroes_df = pd.DataFrame(X_pick, index=df.index)\n",
    "    X_train_all = pd.concat([df_wout_miss, heroes_df], axis=1)\n",
    "    #print(X_train_all.head())\n",
    "    X_train = X_train_all.as_matrix()\n",
    "    return X_train"
   ]
  },
  {
   "cell_type": "code",
   "execution_count": 266,
   "metadata": {},
   "outputs": [
    {
     "name": "stderr",
     "output_type": "stream",
     "text": [
      "C:\\Users\\Admin\\Anaconda3\\lib\\site-packages\\ipykernel_launcher.py:12: FutureWarning: Method .as_matrix will be removed in a future version. Use .values instead.\n",
      "  if sys.path[0] == '':\n",
      "C:\\Users\\Admin\\Anaconda3\\lib\\site-packages\\ipykernel_launcher.py:25: FutureWarning: Method .as_matrix will be removed in a future version. Use .values instead.\n"
     ]
    }
   ],
   "source": [
    "df_test = pd.read_csv('./features_test.csv', index_col='match_id')\n",
    "X_test = preprocessing_df(df_test)\n"
   ]
  },
  {
   "cell_type": "code",
   "execution_count": 268,
   "metadata": {},
   "outputs": [
    {
     "name": "stderr",
     "output_type": "stream",
     "text": [
      "C:\\Users\\Admin\\Anaconda3\\lib\\site-packages\\sklearn\\linear_model\\logistic.py:433: FutureWarning: Default solver will be changed to 'lbfgs' in 0.22. Specify a solver to silence this warning.\n",
      "  FutureWarning)\n",
      "C:\\Users\\Admin\\Anaconda3\\lib\\site-packages\\sklearn\\linear_model\\logistic.py:1297: UserWarning: 'n_jobs' > 1 does not have any effect when 'solver' is set to 'liblinear'. Got 'n_jobs' = 8.\n",
      "  \" = {}.\".format(effective_n_jobs(self.n_jobs)))\n"
     ]
    }
   ],
   "source": [
    "pred = LR_best(X_train, y_train, X_test)"
   ]
  },
  {
   "cell_type": "markdown",
   "metadata": {},
   "source": [
    "**Какое минимальное и максимальное значение прогноза на тестовой выборке получилось у лучшего из алгоритмов?**"
   ]
  },
  {
   "cell_type": "code",
   "execution_count": 274,
   "metadata": {},
   "outputs": [
    {
     "name": "stdout",
     "output_type": "stream",
     "text": [
      "min: 0.0036712840745719566, max: 0.996328715925428\n"
     ]
    }
   ],
   "source": [
    "print (f'min: {pred.min()}, max: {pred.max()}')"
   ]
  },
  {
   "cell_type": "code",
   "execution_count": null,
   "metadata": {},
   "outputs": [],
   "source": []
  }
 ],
 "metadata": {
  "kernelspec": {
   "display_name": "Python 3",
   "language": "python",
   "name": "python3"
  },
  "language_info": {
   "codemirror_mode": {
    "name": "ipython",
    "version": 3
   },
   "file_extension": ".py",
   "mimetype": "text/x-python",
   "name": "python",
   "nbconvert_exporter": "python",
   "pygments_lexer": "ipython3",
   "version": "3.7.1"
  }
 },
 "nbformat": 4,
 "nbformat_minor": 1
}
